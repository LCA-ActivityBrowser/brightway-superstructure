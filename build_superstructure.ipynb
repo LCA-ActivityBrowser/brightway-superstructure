{
 "cells": [
  {
   "cell_type": "code",
   "execution_count": null,
   "metadata": {},
   "outputs": [],
   "source": [
    "# NOTE: An assumption is made that the user has brightway and a number of other libraries installed.\n",
    "# Also, development was done using Python 3.7, while there shouldn't be any actual broken code,\n",
    "#  older versions of Python are not considered.\n",
    "\n",
    "from pathlib import Path\n",
    "\n",
    "import brightway2 as bw\n",
    "from src import Builder"
   ]
  },
  {
   "cell_type": "code",
   "execution_count": null,
   "metadata": {},
   "outputs": [],
   "source": [
    "sorted(bw.projects)"
   ]
  },
  {
   "cell_type": "code",
   "execution_count": null,
   "metadata": {},
   "outputs": [],
   "source": [
    "# Select a superstructure project\n",
    "proj_name = \"superstructure\"\n",
    "bw.projects.set_current(proj_name)"
   ]
  },
  {
   "cell_type": "code",
   "execution_count": null,
   "metadata": {},
   "outputs": [],
   "source": [
    "sorted(bw.databases)"
   ]
  },
  {
   "cell_type": "code",
   "execution_count": null,
   "metadata": {},
   "outputs": [],
   "source": [
    "test_dbs = [\"A\", \"B\"]"
   ]
  },
  {
   "cell_type": "code",
   "execution_count": null,
   "metadata": {
    "scrolled": true
   },
   "outputs": [],
   "source": [
    "# Initialize the builder.\n",
    "# - (Optional) Creates the superstructure database.\n",
    "# - Compares the superstructure database against the others.\n",
    "# - Adds both missing activities and exchanges to the superstructure.\n",
    "bld = Builder.superstructure_from_databases(test_dbs, \"C\")"
   ]
  },
  {
   "cell_type": "code",
   "execution_count": null,
   "metadata": {},
   "outputs": [],
   "source": [
    "# Take the superstructure and delta databases\n",
    "# - Construct a DataFrame from all biosphere, technosphere and production exchanges.\n",
    "# NOTE: This might only fill in the '*_database', '*_key' and scenario columns.\n",
    "#  Using the `finalize_superstructure` method will fill in the missing information.\n",
    "bld.build_superstructure()"
   ]
  },
  {
   "cell_type": "code",
   "execution_count": null,
   "metadata": {},
   "outputs": [],
   "source": [
    "# Complete superstructure scenario DataFrame of all exchanges\n",
    "bld.superstructure"
   ]
  },
  {
   "cell_type": "code",
   "execution_count": null,
   "metadata": {},
   "outputs": [],
   "source": [
    "# Filter the DataFrame of all exchanges where there is no difference.\n",
    "# NOTE: This is not always required.\n",
    "bld.filter_superstructure()"
   ]
  },
  {
   "cell_type": "code",
   "execution_count": null,
   "metadata": {},
   "outputs": [],
   "source": [
    "# Filtered superstructure scenario DataFrame\n",
    "bld.superstructure"
   ]
  },
  {
   "cell_type": "code",
   "execution_count": null,
   "metadata": {},
   "outputs": [],
   "source": [
    "# Validate the keys in the superstructure.\n",
    "bld.validate_superstructure()"
   ]
  },
  {
   "cell_type": "code",
   "execution_count": null,
   "metadata": {},
   "outputs": [],
   "source": [
    "# Fill out the 'from' and 'to' columns with the 'key' information.\n",
    "bld.finalize_superstructure()"
   ]
  },
  {
   "cell_type": "code",
   "execution_count": null,
   "metadata": {},
   "outputs": [],
   "source": [
    "# The final draft of the superstructure scenario flows.\n",
    "# NOTE: The first scenario column is the superstructure database itself.\n",
    "# NOTE2: If the superstructure was built from scratch, all values will be 0.\n",
    "#  Take this into account when saving/using this flow scenario dataframe.\n",
    "bld.superstructure"
   ]
  },
  {
   "cell_type": "code",
   "execution_count": null,
   "metadata": {},
   "outputs": [],
   "source": []
  },
  {
   "cell_type": "code",
   "execution_count": null,
   "metadata": {},
   "outputs": [],
   "source": [
    "### Now, export both the superstructure database and the flow scenario file.\n",
    "db = bw.Database(\"C\")\n",
    "db.process()\n",
    "local_dir = Path.cwd()"
   ]
  },
  {
   "cell_type": "code",
   "execution_count": null,
   "metadata": {},
   "outputs": [],
   "source": [
    "# For the superstructure database, use brightway2's 'BW2Package' format.\n",
    "out_path = bw.BW2Package.export_obj(db, bld.name, \"output\")\n",
    "out_file = Path(out_path)  # Capture the returned output path"
   ]
  },
  {
   "cell_type": "code",
   "execution_count": null,
   "metadata": {},
   "outputs": [],
   "source": [
    "# Move the created package to the current working directory.\n",
    "local_file = local_dir / out_file.name\n",
    "if not local_file.exists():\n",
    "    out_file.replace(local_file)"
   ]
  },
  {
   "cell_type": "code",
   "execution_count": null,
   "metadata": {},
   "outputs": [],
   "source": [
    "# Now, save the flow scenarios to an excel file.\n",
    "excel_file = local_dir / \"{}_flow_scenarios.xlsx\".format(bld.name)\n",
    "bld.superstructure.to_excel(excel_file, index=False)"
   ]
  }
 ],
 "metadata": {
  "kernelspec": {
   "display_name": "Python 3.7.6 64-bit ('jupyter': conda)",
   "language": "python",
   "name": "python37664bitjupyterconda0b94a1164d754b91baa21e841615a926"
  },
  "language_info": {
   "codemirror_mode": {
    "name": "ipython",
    "version": 3
   },
   "file_extension": ".py",
   "mimetype": "text/x-python",
   "name": "python",
   "nbconvert_exporter": "python",
   "pygments_lexer": "ipython3",
   "version": "3.7.6"
  }
 },
 "nbformat": 4,
 "nbformat_minor": 2
}
